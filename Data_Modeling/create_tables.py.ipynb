{
 "cells": [
  {
   "cell_type": "code",
   "execution_count": 1,
   "id": "intermediate-phoenix",
   "metadata": {},
   "outputs": [],
   "source": [
    "import psycopg2\n",
    "from sql_queries import create_table_queries, drop_table_queries"
   ]
  },
  {
   "cell_type": "code",
   "execution_count": 2,
   "id": "stainless-prototype",
   "metadata": {},
   "outputs": [],
   "source": [
    "def create_database():\n",
    "    #Conectamos a la bd\n",
    "        conn = psycopg2.connect(\"host=database-1.c295zanvccq2.us-east-1.rds.amazonaws.com dbname=studentdb user=student password=root2021\")\n",
    "        conn.set_session(autocommit=True)\n",
    "        cur = conn.cursor()\n",
    "        \n",
    "        #Creamos la base de datos con UTF 8 encoding\n",
    "        cur.execute(\"DROP DATABASE IF EXISTS sparkifydb\")\n",
    "        cur.execute(\"CREATE DATABASE sparkifydb WITH ENCODING 'utf8' TEMPLATE template0\")\n",
    "        \n",
    "        #Cerramos la conexión con la actual base de datos\n",
    "        conn.close()\n",
    "        \n",
    "        #Conectamos con la base de datos de sparkify\n",
    "        conn = psycopg2.connect(\"host=database-1.c295zanvccq2.us-east-1.rds.amazonaws.com dbname=sparkifydb user=student password=root2021\")\n",
    "        cur = conn.cursor()\n",
    "        \n",
    "        return cur, conn\n",
    "    \n",
    "def drop_tables(cur,conn):\n",
    "    for query in drop_table_queries:\n",
    "        cur.execute(query)\n",
    "        conn.commit()\n",
    "        \n",
    "            \n",
    "def create_tables(cur,conn):\n",
    "    for query in create_table_queries:\n",
    "        cur.execute(query)\n",
    "        conn.commit()\n",
    "        \n",
    "            \n",
    "    \n",
    "def main():\n",
    "    cur, conn = create_database()\n",
    "    drop_tables(cur,conn)\n",
    "    create_tables(cur,conn)\n",
    "    \n",
    "       \n",
    "    \n",
    "        \n",
    "  \n",
    "    "
   ]
  },
  {
   "cell_type": "code",
   "execution_count": 4,
   "id": "short-family",
   "metadata": {},
   "outputs": [],
   "source": [
    "if __name__==\"__main__\":\n",
    "    main()"
   ]
  },
  {
   "cell_type": "code",
   "execution_count": null,
   "id": "cardiac-factor",
   "metadata": {},
   "outputs": [],
   "source": []
  }
 ],
 "metadata": {
  "kernelspec": {
   "display_name": "Python 3",
   "language": "python",
   "name": "python3"
  },
  "language_info": {
   "codemirror_mode": {
    "name": "ipython",
    "version": 3
   },
   "file_extension": ".py",
   "mimetype": "text/x-python",
   "name": "python",
   "nbconvert_exporter": "python",
   "pygments_lexer": "ipython3",
   "version": "3.7.0"
  }
 },
 "nbformat": 4,
 "nbformat_minor": 5
}
